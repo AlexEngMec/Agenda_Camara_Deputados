{
 "cells": [
  {
   "cell_type": "markdown",
   "id": "4526aa10-894b-4192-9d66-3a93c91d35e5",
   "metadata": {},
   "source": [
    "# Main idea\n",
    "\n",
    "A script that generates an agenda from the open data of the Chamber of Deputies (https://dadosabertos.camara.leg.br/swagger/api.html) given a list of events of interest."
   ]
  },
  {
   "cell_type": "markdown",
   "id": "8b97bc2e-9ea0-4972-9268-c813666de535",
   "metadata": {},
   "source": [
    "**Importing libraries**"
   ]
  },
  {
   "cell_type": "code",
   "execution_count": 167,
   "id": "efa909dd-b18b-432c-bb81-c92328123053",
   "metadata": {},
   "outputs": [],
   "source": [
    "import requests\n",
    "import json\n",
    "import datetime\n",
    "import pandas as pd\n",
    "import time\n",
    "import os\n",
    "import shutil"
   ]
  },
  {
   "cell_type": "markdown",
   "id": "769d154b-957c-404a-aca4-1a6e835dc106",
   "metadata": {},
   "source": [
    "**Create folder to alocate json files from events and agenda**"
   ]
  },
  {
   "cell_type": "code",
   "execution_count": 168,
   "id": "89d7883d-4cb0-4371-8e79-a698d820eb5d",
   "metadata": {},
   "outputs": [],
   "source": [
    "os.mkdir('Pautas')\n",
    "os.mkdir('Eventos')\n",
    "os.mkdir('Dia')"
   ]
  },
  {
   "cell_type": "markdown",
   "id": "4df36431-cda9-4217-a588-16c805d8667b",
   "metadata": {},
   "source": [
    "**Generating list of events of interest** \n",
    "\n",
    "Here the list comes from an excel table."
   ]
  },
  {
   "cell_type": "code",
   "execution_count": 169,
   "id": "54ba6e3f-d207-406a-afb9-582f2cae5165",
   "metadata": {},
   "outputs": [],
   "source": [
    "df = pd.read_excel(\"Lista Projetos Camara.xlsx\") # Read excel file\n",
    "ListaBacklog = df['Lista'].tolist() # Make a list from the dataframe"
   ]
  },
  {
   "cell_type": "markdown",
   "id": "298826ff-db80-4520-b78a-dd0d15722f87",
   "metadata": {},
   "source": [
    "**Get list of events ID´s through URL**"
   ]
  },
  {
   "cell_type": "code",
   "execution_count": 172,
   "id": "4b9a85c3-122f-4147-b442-c25ec2963fee",
   "metadata": {},
   "outputs": [],
   "source": [
    "IdSol = [] #List of ID´s of events \n",
    "for i in range(8): #Iterate over a week to get the Events ID´s\n",
    "    Data = str((datetime.datetime.today() + datetime.timedelta(days=i)).date()).split('-')\n",
    "    AnoR = Data[0]\n",
    "    MesR = Data[1]\n",
    "    DiaR = Data[2]\n",
    "    # Call URL to get json file\n",
    "    URL = 'https://dadosabertos.camara.leg.br/api/v2/eventos?dataInicio={0}-{1}-{2}&dataFim={0}-{1}-{2}&ordem=ASC&ordenarPor=dataHoraInicio'.format(AnoR,MesR,DiaR)\n",
    "    response = requests.get(URL)\n",
    "    # Open Json file\n",
    "    with open('Dia/EventoDia{}.json'.format(Data), 'wb') as file:\n",
    "        file.write(response.content)\n",
    "    file.close()\n",
    "    with open('Dia/EventoDia{}.json'.format(Data), 'r', encoding=\"utf8\") as file:\n",
    "        DadoDia = json.load(file)\n",
    "    file.close()\n",
    "    # Save Event´s ID\n",
    "    for D in DadoDia['dados']:\n",
    "        IdSol.append(D['id'])"
   ]
  },
  {
   "cell_type": "markdown",
   "id": "e8165f72-850d-44a6-91d3-ecdaa207feab",
   "metadata": {},
   "source": [
    "**Dict entries needed**"
   ]
  },
  {
   "cell_type": "code",
   "execution_count": 173,
   "id": "d2d765b6-ba01-4a9a-b514-f85a70f58441",
   "metadata": {},
   "outputs": [],
   "source": [
    "Output = {'uriDeputados': [],\n",
    "          'uriConvidados': [],\n",
    "          'fases': [],\n",
    "          'id': [],\n",
    "          'uri': [],\n",
    "          'dataHoraInicio': [],\n",
    "          'dataHoraFim': [],\n",
    "          'situacao': [],\n",
    "          'descricaoTipo': [],\n",
    "          'descricao': [],\n",
    "          'localExterno': [],\n",
    "          'localCamaraNome': [],\n",
    "          'localCamaraPredio': [],\n",
    "          'localCamaraSala': [],\n",
    "          'localCamaraAndar': [],\n",
    "          'orgaosId': [],\n",
    "          'orgaosUri': [],\n",
    "          'orgaosSigla': [],\n",
    "          'orgaosNome': [],\n",
    "          'orgaosApelido': [],\n",
    "          'orgaosCodTipo': [],\n",
    "          'orgaosTipoOrgao': [],\n",
    "          'nomePublicacao': [],\n",
    "          'urlDocumentoPauta': [],\n",
    "          'urlRegistro': [],\n",
    "          'regime': [],\n",
    "          'codRegime': [],\n",
    "          'ordem': [],\n",
    "          'idProp': [],\n",
    "          'uriProp': [],\n",
    "          'siglaTipo': [],\n",
    "          'codTipo': [],\n",
    "          'numero': [],\n",
    "          'ano': [],\n",
    "          'ementa': [],\n",
    "          'situacaoItem': [],\n",
    "          'uriVotacao': []\n",
    "          }"
   ]
  },
  {
   "cell_type": "markdown",
   "id": "b2526d31-2016-47c2-b399-cf24b4c17527",
   "metadata": {},
   "source": [
    "**Iterate over events and look from propositions that are in the list**"
   ]
  },
  {
   "cell_type": "code",
   "execution_count": 174,
   "id": "a32eb1c4-f442-4b77-9a81-6202755225e5",
   "metadata": {},
   "outputs": [],
   "source": [
    "for Id in IdSol:\n",
    "    URL = 'https://dadosabertos.camara.leg.br/api/v2/eventos/{}/pauta'.format(Id)\n",
    "    response = requests.get(URL)\n",
    "    with open('Pautas/Pauta{}.json'.format(Id), 'wb') as file:\n",
    "        file.write(response.content)\n",
    "    file.close()\n",
    "    with open('Pautas/Pauta{}.json'.format(Id), 'r', encoding=\"utf8\") as file:\n",
    "        DadoPauta = json.load(file)\n",
    "    file.close()\n",
    "    for D in DadoPauta['dados']:\n",
    "        if int(D['proposicao_']['id']) in ListaBacklog:\n",
    "            # Dados Pauta\n",
    "            Output['regime'].append(D['regime'])\n",
    "            Output['codRegime'].append(D['codRegime'])\n",
    "            Output['ordem'].append(D['ordem'])\n",
    "            Output['idProp'].append(D['proposicao_']['id'])\n",
    "            Output['uriProp'].append(D['proposicao_']['uri'])\n",
    "            Output['siglaTipo'].append(D['proposicao_']['siglaTipo'])\n",
    "            Output['codTipo'].append(D['proposicao_']['codTipo'])\n",
    "            Output['numero'].append(D['proposicao_']['numero'])\n",
    "            Output['ano'].append(D['proposicao_']['ano'])\n",
    "            Output['ementa'].append(D['proposicao_']['ementa'])            \n",
    "            Output['situacaoItem'].append(D['situacaoItem'])\n",
    "            Output['uriVotacao'].append(D['uriVotacao'])\n",
    "\n",
    "            # Dados Evento\n",
    "            URL = 'https://dadosabertos.camara.leg.br/api/v2/eventos/{}'.format(Id)\n",
    "            response = requests.get(URL)\n",
    "            with open('Eventos/Evento{}.json'.format(Id), 'wb') as file:\n",
    "                file.write(response.content)\n",
    "            file.close()\n",
    "            with open('Eventos/Evento{}.json'.format(Id), 'r', encoding=\"utf8\") as file:\n",
    "                DadoEvento = json.load(file)\n",
    "            file.close()\n",
    "            Output['uriDeputados'].append(DadoEvento['dados']['uriDeputados'])\n",
    "            Output['uriConvidados'].append(DadoEvento['dados']['uriConvidados'])\n",
    "            Output['fases'].append(DadoEvento['dados']['fases'])\n",
    "            Output['id'].append(DadoEvento['dados']['id'])\n",
    "            Output['uri'].append(DadoEvento['dados']['uri'])\n",
    "            Output['dataHoraInicio'].append(DadoEvento['dados']['dataHoraInicio'])\n",
    "            Output['dataHoraFim'].append(DadoEvento['dados']['dataHoraFim'])\n",
    "            Output['situacao'].append(DadoEvento['dados']['situacao'])\n",
    "            Output['descricaoTipo'].append(DadoEvento['dados']['descricaoTipo'])\n",
    "            Output['descricao'].append(DadoEvento['dados']['descricao'])\n",
    "            Output['localExterno'].append(DadoEvento['dados']['localExterno'])\n",
    "            Output['localCamaraNome'].append(DadoEvento['dados']['localCamara']['nome'])\n",
    "            Output['localCamaraPredio'].append(DadoEvento['dados']['localCamara']['predio'])\n",
    "            Output['localCamaraSala'].append(DadoEvento['dados']['localCamara']['sala'])\n",
    "            Output['localCamaraAndar'].append(DadoEvento['dados']['localCamara']['andar'])\n",
    "            Output['orgaosId'].append(DadoEvento['dados']['orgaos'][0]['id'])\n",
    "            Output['orgaosUri'].append(DadoEvento['dados']['orgaos'][0]['uri'])\n",
    "            Output['orgaosSigla'].append(DadoEvento['dados']['orgaos'][0]['sigla'])\n",
    "            Output['orgaosNome'].append(DadoEvento['dados']['orgaos'][0]['nome'])\n",
    "            Output['orgaosApelido'].append(DadoEvento['dados']['orgaos'][0]['apelido'])\n",
    "            Output['orgaosCodTipo'].append(DadoEvento['dados']['orgaos'][0]['codTipoOrgao'])\n",
    "            Output['orgaosTipoOrgao'].append(DadoEvento['dados']['orgaos'][0]['tipoOrgao'])\n",
    "            Output['nomePublicacao'].append(DadoEvento['dados']['orgaos'][0]['nomePublicacao'])\n",
    "            Output['urlDocumentoPauta'].append(DadoEvento['dados']['urlDocumentoPauta'])\n",
    "            Output['urlRegistro'].append(DadoEvento['dados']['urlRegistro'])"
   ]
  },
  {
   "cell_type": "markdown",
   "id": "55170401-2267-4281-aa5f-8051a1d38a7b",
   "metadata": {},
   "source": [
    "**Extract data as excel file**"
   ]
  },
  {
   "cell_type": "code",
   "execution_count": 175,
   "id": "20ece547-8bf4-4e9e-97e8-c1e88b446f38",
   "metadata": {},
   "outputs": [],
   "source": [
    "for Key in Output:\n",
    "    if Output[Key].count(None) > 0:\n",
    "        Output[Key][Output[Key].index(None)] = '-'\n",
    "Planilha = pd.DataFrame.from_dict(Output)\n",
    "Planilha.to_excel('Agenda Camara.xlsx')"
   ]
  },
  {
   "cell_type": "markdown",
   "id": "1fce1ff8-f550-41b0-8a67-65c9f36fe27a",
   "metadata": {},
   "source": [
    "**Delete de folders and json files scratched**"
   ]
  },
  {
   "cell_type": "code",
   "execution_count": 176,
   "id": "402aafe8-4be4-4709-8e21-d2a518a57867",
   "metadata": {},
   "outputs": [],
   "source": [
    "shutil.rmtree('Eventos')\n",
    "shutil.rmtree('Pautas')\n",
    "shutil.rmtree('Dia')"
   ]
  }
 ],
 "metadata": {
  "kernelspec": {
   "display_name": "Python 3 (ipykernel)",
   "language": "python",
   "name": "python3"
  },
  "language_info": {
   "codemirror_mode": {
    "name": "ipython",
    "version": 3
   },
   "file_extension": ".py",
   "mimetype": "text/x-python",
   "name": "python",
   "nbconvert_exporter": "python",
   "pygments_lexer": "ipython3",
   "version": "3.8.8"
  }
 },
 "nbformat": 4,
 "nbformat_minor": 5
}
